{
 "cells": [
  {
   "cell_type": "code",
   "execution_count": 1,
   "metadata": {
    "ExecuteTime": {
     "end_time": "2020-07-21T12:15:04.953363Z",
     "start_time": "2020-07-21T12:15:01.557765Z"
    }
   },
   "outputs": [
    {
     "data": {
      "text/html": [
       "<div>\n",
       "<style scoped>\n",
       "    .dataframe tbody tr th:only-of-type {\n",
       "        vertical-align: middle;\n",
       "    }\n",
       "\n",
       "    .dataframe tbody tr th {\n",
       "        vertical-align: top;\n",
       "    }\n",
       "\n",
       "    .dataframe thead th {\n",
       "        text-align: right;\n",
       "    }\n",
       "</style>\n",
       "<table border=\"1\" class=\"dataframe\">\n",
       "  <thead>\n",
       "    <tr style=\"text-align: right;\">\n",
       "      <th></th>\n",
       "      <th>v0_rxy</th>\n",
       "      <th>v0_ks_mass</th>\n",
       "      <th>v0_chi2</th>\n",
       "      <th>cosTheta</th>\n",
       "      <th>trueKs</th>\n",
       "    </tr>\n",
       "    <tr>\n",
       "      <th>entry</th>\n",
       "      <th></th>\n",
       "      <th></th>\n",
       "      <th></th>\n",
       "      <th></th>\n",
       "      <th></th>\n",
       "    </tr>\n",
       "  </thead>\n",
       "  <tbody>\n",
       "    <tr>\n",
       "      <th>0</th>\n",
       "      <td>22.167784</td>\n",
       "      <td>494.268921</td>\n",
       "      <td>2.382054</td>\n",
       "      <td>0.999984</td>\n",
       "      <td>1</td>\n",
       "    </tr>\n",
       "    <tr>\n",
       "      <th>1</th>\n",
       "      <td>47.610825</td>\n",
       "      <td>397.069916</td>\n",
       "      <td>3.497677</td>\n",
       "      <td>0.998978</td>\n",
       "      <td>0</td>\n",
       "    </tr>\n",
       "    <tr>\n",
       "      <th>2</th>\n",
       "      <td>0.817319</td>\n",
       "      <td>501.326752</td>\n",
       "      <td>0.498025</td>\n",
       "      <td>-0.976455</td>\n",
       "      <td>0</td>\n",
       "    </tr>\n",
       "    <tr>\n",
       "      <th>3</th>\n",
       "      <td>8.774105</td>\n",
       "      <td>489.352905</td>\n",
       "      <td>0.005986</td>\n",
       "      <td>0.981570</td>\n",
       "      <td>0</td>\n",
       "    </tr>\n",
       "    <tr>\n",
       "      <th>4</th>\n",
       "      <td>6.396118</td>\n",
       "      <td>476.383453</td>\n",
       "      <td>0.059769</td>\n",
       "      <td>-0.814891</td>\n",
       "      <td>0</td>\n",
       "    </tr>\n",
       "  </tbody>\n",
       "</table>\n",
       "</div>"
      ],
      "text/plain": [
       "          v0_rxy  v0_ks_mass   v0_chi2  cosTheta  trueKs\n",
       "entry                                                   \n",
       "0      22.167784  494.268921  2.382054  0.999984       1\n",
       "1      47.610825  397.069916  3.497677  0.998978       0\n",
       "2       0.817319  501.326752  0.498025 -0.976455       0\n",
       "3       8.774105  489.352905  0.005986  0.981570       0\n",
       "4       6.396118  476.383453  0.059769 -0.814891       0"
      ]
     },
     "execution_count": 1,
     "metadata": {},
     "output_type": "execute_result"
    }
   ],
   "source": [
    "import numpy as np\n",
    "import pandas as pd\n",
    "import torch\n",
    "from sklearn import manifold\n",
    "import matplotlib.pyplot as plt\n",
    "import seaborn as sb\n",
    "\n",
    "#path = \"dataframe_v0_mc.dat\"\n",
    "path = \"mc_tree_df.dat\"\n",
    "\n",
    "dat = pd.read_pickle(path)\n",
    "\n",
    "dat.head()"
   ]
  },
  {
   "cell_type": "code",
   "execution_count": 2,
   "metadata": {
    "ExecuteTime": {
     "end_time": "2020-07-21T12:15:05.446047Z",
     "start_time": "2020-07-21T12:15:04.956356Z"
    }
   },
   "outputs": [
    {
     "data": {
      "image/png": "[encoded data removed]",
      "text/plain": [
       "<Figure size 432x288 with 1 Axes>"
      ]
     },
     "metadata": {},
     "output_type": "display_data"
    }
   ],
   "source": [
    "plt.hist(dat[\"cosTheta\"],100,histtype='step')\n",
    "plt.show()"
   ]
  },
  {
   "cell_type": "code",
   "execution_count": null,
   "metadata": {
    "ExecuteTime": {
     "start_time": "2020-07-21T12:44:41.119Z"
    }
   },
   "outputs": [],
   "source": [
    "tsne = manifold.TSNE(n_components=2, verbose=1, perplexity=40, n_iter=3)\n",
    "tnse_results = tsne.fit_transform(dat)"
   ]
  },
  {
   "cell_type": "code",
   "execution_count": null,
   "metadata": {
    "ExecuteTime": {
     "end_time": "2020-07-21T12:18:35.523887Z",
     "start_time": "2020-07-21T12:15:01.564Z"
    }
   },
   "outputs": [],
   "source": [
    "df_subset = {}\n",
    "df_subset['tsne-2d-one'] = tnse_results[:,0]\n",
    "df_subset['tsne-2d-two'] = tnse_results[:,1]\n",
    "plt.figure(figsize=(16,10))\n",
    "sb.scatterplot(\n",
    "    x=\"tsne-2d-one\", y=\"tsne-2d-two\",\n",
    "    palette=sb.color_palette(\"hls\", 10),\n",
    "    data=df_subset,\n",
    "    legend=\"full\",\n",
    "    alpha=0.3\n",
    ")"
   ]
  }
 ],
 "metadata": {
  "hide_input": false,
  "kernelspec": {
   "display_name": "Python 3",
   "language": "python",
   "name": "python3"
  },
  "language_info": {
   "codemirror_mode": {
    "name": "ipython",
    "version": 3
   },
   "file_extension": ".py",
   "mimetype": "text/x-python",
   "name": "python",
   "nbconvert_exporter": "python",
   "pygments_lexer": "ipython3",
   "version": "3.6.5"
  }
 },
 "nbformat": 4,
 "nbformat_minor": 2
}
