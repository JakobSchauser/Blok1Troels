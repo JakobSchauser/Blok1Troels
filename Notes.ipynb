{
 "cells": [
  {
   "cell_type": "markdown",
   "metadata": {},
   "source": [
    "## Notes\n",
    "\n",
    "Ugentligt møde. Helst tidligt :)\n",
    "\n",
    "Hvad er de mere præcise eksamens- og resultatkrav? \n",
    "\n",
    "Hvorfor passer dobbelt-Gauss?\n",
    "\n",
    "Differensen mellem reweighted/data og MC\n",
    "\n",
    "Fysik bag lille peak ved 125 rxy for TrueLambda\n",
    "\n",
    "\n",
    "__\n",
    "\n",
    "\n",
    "\n",
    "\n",
    "best:\n",
    "[\"cosTheta\",\"v0_ks_mass\",'v0_rxy','v0_chi2']\n",
    "\n",
    "shap = \"cosTheta v0_ks_mass pT v0_rxyErr v0_rxy v0_chi2 ntrk_pv0 eventCounter a0 a0xy pv0_y calpha v0_ks_massErr epsilon1 epsilon2 v0_ptErr v0_p v0_pz1 v0_phi2 v0_y\".split(\" \")"
   ]
  }
 ],
 "metadata": {
  "hide_input": false,
  "kernelspec": {
   "display_name": "Python 3",
   "language": "python",
   "name": "python3"
  },
  "language_info": {
   "codemirror_mode": {
    "name": "ipython",
    "version": 3
   },
   "file_extension": ".py",
   "mimetype": "text/x-python",
   "name": "python",
   "nbconvert_exporter": "python",
   "pygments_lexer": "ipython3",
   "version": "3.6.10"
  },
  "toc": {
   "base_numbering": 1,
   "nav_menu": {},
   "number_sections": true,
   "sideBar": true,
   "skip_h1_title": false,
   "title_cell": "Table of Contents",
   "title_sidebar": "Contents",
   "toc_cell": false,
   "toc_position": {},
   "toc_section_display": true,
   "toc_window_display": false
  }
 },
 "nbformat": 4,
 "nbformat_minor": 2
}
