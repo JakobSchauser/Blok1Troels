{
 "cells": [
  {
   "cell_type": "code",
   "execution_count": 8,
   "metadata": {
    "ExecuteTime": {
     "end_time": "2020-09-02T08:36:21.679498Z",
     "start_time": "2020-09-02T08:36:21.674545Z"
    }
   },
   "outputs": [],
   "source": [
    "import numpy as np\n",
    "import matplotlib.pyplot as plt\n",
    "import seaborn as sns\n",
    "import pandas as pd\n",
    "import matplotlib.pyplot as plt\n",
    "import sklearn\n",
    "import torch\n",
    "sns.set()"
   ]
  },
  {
   "cell_type": "code",
   "execution_count": 12,
   "metadata": {
    "ExecuteTime": {
     "end_time": "2020-09-02T08:46:50.264758Z",
     "start_time": "2020-09-02T08:46:49.952845Z"
    }
   },
   "outputs": [
    {
     "data": {
      "image/png": "[encoded data removed]",
      "text/plain": [
       "<Figure size 432x288 with 1 Axes>"
      ]
     },
     "metadata": {},
     "output_type": "display_data"
    }
   ],
   "source": [
    "path = \"dataframe_v0_mc.dat\"\n",
    "\n",
    "dat = pd.read_pickle(path)\n",
    "\n",
    "# print(dat.head())\n",
    "# for col in dat.columns: \n",
    "#     print(col) \n",
    "\n",
    "traindat = dat[[\"cosTheta\",\"trueKs\"]]\n",
    "\n",
    "plt.hist(dat[\"cosTheta\"],100)\n",
    "plt.show()\n"
   ]
  },
  {
   "cell_type": "code",
   "execution_count": 73,
   "metadata": {
    "ExecuteTime": {
     "end_time": "2020-07-22T09:36:23.211420Z",
     "start_time": "2020-07-22T09:36:21.233147Z"
    }
   },
   "outputs": [
    {
     "name": "stdout",
     "output_type": "stream",
     "text": [
      "0.9997400045394897\n",
      "   v0\n"
     ]
    }
   ],
   "source": [
    "import torch\n",
    "\n",
    "s_batch = 1\n",
    "\n",
    "torch_tensor = torch.tensor(traindat.values)\n",
    "\n",
    "trainset = torch_tensor[:int(len(torch_tensor)*0.8)]\n",
    "trainloader = torch.utils.data.DataLoader(trainset, batch_size=s_batch,shuffle=True, num_workers=2)\n",
    "\n",
    "testset = torch_tensor[int(len(torch_tensor)*0.2):]\n",
    "testloader = torch.utils.data.DataLoader(testset, batch_size=s_batch,shuffle=False, num_workers=2)\n",
    "\n",
    "classes = (\"background\",\"v0\")\n",
    "\n",
    "dataiter = iter(trainloader)\n",
    "dd = dataiter.next()\n",
    "\n",
    "datashow, labels = dd[:,0],dd[:,1]\n",
    "print(' '.join('%5s' % float(datashow[j]) for j in range(s_batch)))\n",
    "print(' '.join('%5s' % classes[int(labels[j])] for j in range(s_batch)))"
   ]
  },
  {
   "cell_type": "code",
   "execution_count": 71,
   "metadata": {
    "ExecuteTime": {
     "end_time": "2020-07-21T13:21:01.375024Z",
     "start_time": "2020-07-21T13:21:01.365359Z"
    }
   },
   "outputs": [
    {
     "name": "stdout",
     "output_type": "stream",
     "text": [
      "Net(\n",
      "  (conv1): Conv2d(1, 6, kernel_size=(3, 3), stride=(1, 1))\n",
      "  (conv2): Conv2d(6, 16, kernel_size=(3, 3), stride=(1, 1))\n",
      "  (fc1): Linear(in_features=576, out_features=120, bias=True)\n",
      "  (fc2): Linear(in_features=120, out_features=84, bias=True)\n",
      "  (fc3): Linear(in_features=84, out_features=10, bias=True)\n",
      ")\n"
     ]
    }
   ],
   "source": [
    "import torch.nn as nn\n",
    "\n",
    "class RNN(nn.Module):\n",
    "    def __init__(self, input_size, hidden_size, output_size):\n",
    "        super(RNN, self).__init__()\n",
    "\n",
    "        self.hidden_size = hidden_size\n",
    "\n",
    "        self.i2h = nn.Linear(input_size + hidden_size, hidden_size)\n",
    "        self.i2o = nn.Linear(input_size + hidden_size, output_size)\n",
    "        self.softmax = nn.LogSoftmax(dim=1)\n",
    "\n",
    "    def forward(self, input, hidden):\n",
    "        combined = torch.cat((input, hidden), 1)\n",
    "        hidden = self.i2h(combined)\n",
    "        output = self.i2o(combined)\n",
    "        output = self.softmax(output)\n",
    "        return output, hidden\n",
    "\n",
    "    def initHidden(self):\n",
    "        return torch.zeros(1, self.hidden_size)\n",
    "\n",
    "n_hidden = 128\n",
    "rnn = RNN(n_letters, n_hidden, n_categories)"
   ]
  }
 ],
 "metadata": {
  "hide_input": false,
  "kernelspec": {
   "display_name": "Python 3",
   "language": "python",
   "name": "python3"
  },
  "language_info": {
   "codemirror_mode": {
    "name": "ipython",
    "version": 3
   },
   "file_extension": ".py",
   "mimetype": "text/x-python",
   "name": "python",
   "nbconvert_exporter": "python",
   "pygments_lexer": "ipython3",
   "version": "3.6.10"
  },
  "toc": {
   "base_numbering": 1,
   "nav_menu": {},
   "number_sections": true,
   "sideBar": true,
   "skip_h1_title": false,
   "title_cell": "Table of Contents",
   "title_sidebar": "Contents",
   "toc_cell": false,
   "toc_position": {},
   "toc_section_display": true,
   "toc_window_display": false
  }
 },
 "nbformat": 4,
 "nbformat_minor": 2
}
